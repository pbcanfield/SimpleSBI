{
 "cells": [
  {
   "cell_type": "code",
   "execution_count": null,
   "metadata": {},
   "outputs": [],
   "source": [
    "from neuron import h\n",
    "import os\n",
    "import matplotlib.pyplot as plt\n",
    "import numpy as np\n",
    "import torch\n",
    "\n",
    "from sbi import utils as utils\n",
    "from sbi.inference.base import infer\n",
    "from sbi.inference import SNPE, prepare_for_sbi, simulate_for_sbi\n",
    "from sbi.utils.get_nn_models import posterior_nn\n",
    "\n",
    "from IPython.core.display import display, HTML\n",
    "display(HTML(\"<style>.container { width:100% !important; }</style>\"))\n",
    "\n",
    "#First compile our modfiles.\n",
    "if os.system('nrnivmodl modfiles/') == 0:\n",
    "    print(\"Compilation Succeeded.\")\n",
    "else:\n",
    "    print(\"Compilation Failed.\")"
   ]
  },
  {
   "cell_type": "code",
   "execution_count": null,
   "metadata": {},
   "outputs": [],
   "source": [
    "h.load_file('stdrun.hoc')\n",
    "\n",
    "#Define simumulation parameters.\n",
    "SIMRUNTIME = 1500\n",
    "DELAY      = 400\n",
    "INJTIME    = 500\n",
    "I_INJ      = 0.2\n",
    "\n",
    "h.tstop    = SIMRUNTIME\n",
    "h.v_init   = -75\n",
    "\n",
    "SEGREGATED = False\n",
    "\n",
    "#Now set up vectors to record the membrane potential and the time.\n",
    "potential = h.Vector()\n",
    "time      = h.Vector()"
   ]
  },
  {
   "cell_type": "code",
   "execution_count": null,
   "metadata": {},
   "outputs": [],
   "source": [
    "#Plot membrane potential of tonic cell.\n",
    "def plot_membrane():\n",
    "    plt.close()\n",
    "    plt.figure(figsize = (20,5))\n",
    "    plt.plot(time, potential)\n",
    "    plt.xlabel('Time')\n",
    "    plt.ylabel('Membrane Potential')\n",
    "    plt.show()\n",
    "\n",
    "\n"
   ]
  },
  {
   "cell_type": "code",
   "execution_count": null,
   "metadata": {},
   "outputs": [],
   "source": [
    "\n",
    "soma = h.Section(name = 'soma')\n",
    "\n",
    "iclamp = h.IClamp(soma(0.5))\n",
    "iclamp.dur   = INJTIME\n",
    "iclamp.amp   = I_INJ\n",
    "iclamp.delay = DELAY\n",
    "\n",
    "#Record time and membrane potential for tonic cell.\n",
    "time.record(h._ref_t) \n",
    "potential.record(soma(0.5)._ref_v)\n",
    "\n",
    "\n",
    "#We will make a super simple one compartement tonic spiking cell.\n",
    "soma.nseg = 1 \n",
    "soma.L    = 25\n",
    "soma.diam = 24.75\n",
    "\n",
    "#First insert the passive module.\n",
    "soma.insert('leakCA3')\n",
    "\n",
    "#Insert the calculated values from passive properties\n",
    "soma.glbar_leakCA3 = 1.53*3e-5\n",
    "soma.el_leakCA3 = -75\n",
    "soma.cm = 1\n",
    "\n",
    "#Insert h channel (This is appart of the passive module, but it interferes with calcuating passive properties).\n",
    "soma.insert('hdCA3')\n",
    "\n",
    "#Now insert the spiking module.\n",
    "soma.insert('natCA3')\n",
    "soma.insert('kdrCA3')\n",
    "\n",
    "if not SEGREGATED:\n",
    "    soma.mseg_natCA3 = -200\n",
    "    soma.nseg_kdrCA3 = -200\n",
    "    soma.lseg_hdCA3 = 200\n",
    "    \n"
   ]
  },
  {
   "cell_type": "code",
   "execution_count": null,
   "metadata": {},
   "outputs": [],
   "source": [
    "def run_tonic_model(gna, gkdr, gh, gleak):\n",
    "\n",
    "    soma.gbar_natCA3   = gna\n",
    "    soma.gbar_kdrCA3   = gkdr\n",
    "    soma.ghdbar_hdCA3  = gh\n",
    "    soma.glbar_leakCA3 = gleak\n",
    "    \n",
    "    h.run()\n"
   ]
  },
  {
   "cell_type": "code",
   "execution_count": null,
   "metadata": {},
   "outputs": [],
   "source": [
    "run_tonic_model(0.065, 0.065, 1.0e-5, 2.857142857142857e-05)\n",
    "\n",
    "plot_membrane()\n"
   ]
  },
  {
   "cell_type": "code",
   "execution_count": null,
   "metadata": {},
   "outputs": [],
   "source": [
    "from scipy import stats as spstats\n",
    "from scipy.signal import find_peaks\n",
    "def Stats(trace):\n",
    "    \"\"\"\n",
    "    Calculates summary statistics\n",
    "    results = model(params)\n",
    "    \"\"\"\n",
    "\n",
    "    \n",
    "    resting = np.mean(trace[4500:10500])\n",
    "    Max  = max(trace)\n",
    "    Min = min(trace)\n",
    "        \n",
    "    peak_times = np.asarray(find_peaks(trace,height=0)[0])\n",
    "    \n",
    "    firstPeak = SIMRUNTIME\n",
    "    avg_int = INJTIME\n",
    "    \n",
    "    \n",
    "    if len(peak_times) > 0:\n",
    "        firstPeak = time[peak_times[0]]\n",
    "\n",
    "        #Average interval.\n",
    "        avg_int = 0\n",
    "        for i in range(1,len(peak_times)):\n",
    "            avg_int += time[peak_times[i]] - time[peak_times[i - 1]]\n",
    "\n",
    "        avg_int /= len(peak_times)\n",
    "    \n",
    "    \n",
    "    allStats = np.concatenate((resting,Max,Min,firstPeak,avg_int),axis=None)\n",
    "   \n",
    "    return np.array(allStats)"
   ]
  },
  {
   "cell_type": "code",
   "execution_count": null,
   "metadata": {},
   "outputs": [],
   "source": [
    "print(Stats(potential.as_numpy()))"
   ]
  },
  {
   "cell_type": "code",
   "execution_count": null,
   "metadata": {},
   "outputs": [],
   "source": [
    "def simulation_wrapper(params):\n",
    "    arr = np.asarray(params)\n",
    "    run_tonic_model(arr[0],arr[1],arr[2],arr[3])\n",
    "    return Stats(potential.as_numpy())"
   ]
  },
  {
   "cell_type": "code",
   "execution_count": null,
   "metadata": {},
   "outputs": [],
   "source": [
    "def plot_wrapper(params):\n",
    "    arr = np.asarray(params)\n",
    "    run_tonic_model(arr[0],arr[1],arr[2],arr[3])\n",
    "    plot_membrane()"
   ]
  },
  {
   "cell_type": "code",
   "execution_count": null,
   "metadata": {},
   "outputs": [],
   "source": [
    "Lows = torch.tensor([0.001,0.001,1e-6,1e-6], dtype=float)\n",
    "Highs = torch.tensor([0.1,0.1,1e-4,1e-3], dtype=float)\n",
    "\n",
    "prior = utils.BoxUniform(low=Lows,high=Highs)"
   ]
  },
  {
   "cell_type": "code",
   "execution_count": null,
   "metadata": {},
   "outputs": [],
   "source": [
    "simulator, prior = prepare_for_sbi(simulation_wrapper, prior)\n",
    "density_estimator = posterior_nn(model='maf',hidden_features=12)\n",
    "inference = SNPE(prior=prior,density_estimator=density_estimator,show_progress_bars=True)\n",
    "\n",
    "plot_wrapper(prior.sample())"
   ]
  },
  {
   "cell_type": "code",
   "execution_count": null,
   "metadata": {},
   "outputs": [],
   "source": [
    "posteriors = []\n",
    "proposal = prior\n",
    "num_rounds=2\n",
    "\n",
    "to_match = np.asarray([-67.6637099,41.18800865,-75.70922209,402.65,11.11420455])\n",
    "\n",
    "x_o = torch.from_numpy(to_match) #Need to find this set of summary stats\n",
    "torch.manual_seed(0)\n",
    "\n",
    "for _ in range(num_rounds):\n",
    "    theta, x = simulate_for_sbi(simulator, proposal,num_simulations=1000)\n",
    "    \n",
    "     # In `SNLE` and `SNRE`, you should not pass the `proposal` to `.append_simulations()`\n",
    "    density_estimator = inference.append_simulations(theta, x, proposal=proposal).train(show_train_summary=True,use_combined_loss=True)\n",
    "    posterior = inference.build_posterior(density_estimator)\n",
    "    posteriors.append(posterior)\n",
    "    proposal = posterior.set_default_x(x_o)"
   ]
  },
  {
   "cell_type": "code",
   "execution_count": null,
   "metadata": {},
   "outputs": [],
   "source": [
    "observation_summary_statistics = x_o\n",
    "samples = posterior.sample((10000,), x=x_o)#,sample_with_mcmc=True)\n",
    "\n",
    "log_probability = posterior.log_prob(samples, x = x_o)#,norm_posterior=False)\n",
    "predicted_post_index = np.argmin(log_probability)\n",
    "predicted_post = samples[predicted_post_index]\n",
    "\n",
    "print(\"predicted post is: \",predicted_post)\n",
    "print(\"correlation coefficient between true and predicted = %f\" %np.corrcoef(to_match,simmulation_wrapper(predicted_post))[0][1])"
   ]
  },
  {
   "cell_type": "code",
   "execution_count": null,
   "metadata": {},
   "outputs": [],
   "source": [
    "plot_wrapper(predicted_post)\n",
    "\n",
    "labels_params = ['gNa', 'gK','gH', 'gLeak']\n",
    "fig, axes = utils.pairplot(samples,\n",
    "                           limits=[[Lows[0],Highs[0]],[Lows[1],Highs[1]],[Lows[2],Highs[2]], [Lows[3],Highs[3]]],\n",
    "                           ticks=[[Lows[0],Highs[0]],[Lows[1],Highs[1]],[Lows[2],Highs[2]], [Lows[3],Highs[3]]],\n",
    "                           fig_size=(5,5),\n",
    "                           points_offdiag={'markersize': 6},\n",
    "                           labels = labels_params,\n",
    "                           points_colors='r');\n"
   ]
  }
 ],
 "metadata": {
  "kernelspec": {
   "display_name": "Python 3",
   "language": "python",
   "name": "python3"
  },
  "language_info": {
   "codemirror_mode": {
    "name": "ipython",
    "version": 3
   },
   "file_extension": ".py",
   "mimetype": "text/x-python",
   "name": "python",
   "nbconvert_exporter": "python",
   "pygments_lexer": "ipython3",
   "version": "3.6.7"
  }
 },
 "nbformat": 4,
 "nbformat_minor": 2
}
